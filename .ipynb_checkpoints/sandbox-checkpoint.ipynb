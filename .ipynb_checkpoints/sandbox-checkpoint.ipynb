{
 "cells": [
  {
   "cell_type": "code",
   "execution_count": 2,
   "metadata": {
    "id": "JJjX9RtbKt_c"
   },
   "outputs": [],
   "source": [
    "# make sure the notebook reloads the module each time we modify it\n",
    "%load_ext autoreload\n",
    "%autoreload 2\n",
    "# make sure the displays are nice\n",
    "%matplotlib inline  \n"
   ]
  },
  {
   "cell_type": "code",
   "execution_count": 3,
   "metadata": {
    "colab": {
     "base_uri": "https://localhost:8080/"
    },
    "id": "upKTxtfSK051",
    "outputId": "66ebcf27-0a92-48e4-eedc-ff09e24c6ecf"
   },
   "outputs": [
    {
     "name": "stdout",
     "output_type": "stream",
     "text": [
      "Mounted at /content/Mydrive\n"
     ]
    }
   ],
   "source": [
    "from google.colab import drive\r\n",
    "drive.mount(\"/content/Mydrive\")"
   ]
  },
  {
   "cell_type": "code",
   "execution_count": 4,
   "metadata": {
    "colab": {
     "base_uri": "https://localhost:8080/"
    },
    "id": "WcpIo73OLKwd",
    "outputId": "be2f7925-fbfb-4a7f-d640-0c98257e02ec"
   },
   "outputs": [
    {
     "name": "stdout",
     "output_type": "stream",
     "text": [
      "/content/Mydrive/MyDrive/Bayesian-Monte-Carlo\n"
     ]
    }
   ],
   "source": [
    "cd /content/Mydrive/MyDrive/Bayesian-Monte-Carlo"
   ]
  },
  {
   "cell_type": "code",
   "execution_count": 5,
   "metadata": {
    "colab": {
     "base_uri": "https://localhost:8080/"
    },
    "id": "aZD7fYkPLVuO",
    "outputId": "13dc7bfb-0002-4ac5-9715-55faf63726f9"
   },
   "outputs": [
    {
     "name": "stdout",
     "output_type": "stream",
     "text": [
      "Collecting scikit-optimize\n",
      "\u001b[?25l  Downloading https://files.pythonhosted.org/packages/8b/03/be33e89f55866065a02e515c5b319304a801a9f1027a9b311a9b1d1f8dc7/scikit_optimize-0.8.1-py2.py3-none-any.whl (101kB)\n",
      "\u001b[K     |████████████████████████████████| 102kB 4.5MB/s ta 0:00:011\n",
      "\u001b[?25hRequirement already satisfied: numpy>=1.13.3 in /usr/local/lib/python3.6/dist-packages (from scikit-optimize) (1.19.5)\n",
      "Requirement already satisfied: scipy>=0.19.1 in /usr/local/lib/python3.6/dist-packages (from scikit-optimize) (1.4.1)\n",
      "Requirement already satisfied: scikit-learn>=0.20.0 in /usr/local/lib/python3.6/dist-packages (from scikit-optimize) (0.22.2.post1)\n",
      "Requirement already satisfied: joblib>=0.11 in /usr/local/lib/python3.6/dist-packages (from scikit-optimize) (1.0.0)\n",
      "Collecting pyaml>=16.9\n",
      "  Downloading https://files.pythonhosted.org/packages/15/c4/1310a054d33abc318426a956e7d6df0df76a6ddfa9c66f6310274fb75d42/pyaml-20.4.0-py2.py3-none-any.whl\n",
      "Requirement already satisfied: PyYAML in /usr/local/lib/python3.6/dist-packages (from pyaml>=16.9->scikit-optimize) (3.13)\n",
      "Installing collected packages: pyaml, scikit-optimize\n",
      "Successfully installed pyaml-20.4.0 scikit-optimize-0.8.1\n"
     ]
    }
   ],
   "source": [
    "!pip install scikit-optimize"
   ]
  },
  {
   "cell_type": "code",
   "execution_count": 6,
   "metadata": {
    "id": "YDvpBIHZKt_j"
   },
   "outputs": [],
   "source": [
    "import numpy as np \n",
    "import matplotlib.pyplot as plt\n",
    "import matplotlib.pyplot as plt\n",
    "from scipy.stats import multivariate_normal\n",
    "from scipy.integrate import quad\n",
    "from sklearn.gaussian_process.kernels import RBF\n",
    "\n",
    "from mc import *"
   ]
  },
  {
   "cell_type": "markdown",
   "metadata": {
    "id": "jrdzoj6-Kt_k"
   },
   "source": [
    " ## 1-D Examples"
   ]
  },
  {
   "cell_type": "code",
   "execution_count": 7,
   "metadata": {
    "id": "VtxaEa2WKt_k"
   },
   "outputs": [],
   "source": [
    "def f1(x):\n",
    "    if x>=0 and x<=1:\n",
    "        return np.exp(x)*np.sin(np.pi*x) -x**3 \n",
    "    return 0\n",
    "f1=np.vectorize(f1)"
   ]
  },
  {
   "cell_type": "code",
   "execution_count": 8,
   "metadata": {
    "colab": {
     "base_uri": "https://localhost:8080/",
     "height": 265
    },
    "id": "T6RLby3YKt_l",
    "outputId": "bb12a4f3-5ebf-4350-8088-4fd76b88c7a4"
   },
   "outputs": [
    {
     "data": {
      "image/png": "[encoded data removed]",
      "text/plain": [
       "<Figure size 432x288 with 1 Axes>"
      ]
     },
     "metadata": {
      "needs_background": "light",
      "tags": []
     },
     "output_type": "display_data"
    }
   ],
   "source": [
    "b=np.array([0.6])\n",
    "B=np.array([[.01]])\n",
    "p=multivariate_normal(mean=b,cov=B)\n",
    "ax=np.linspace(0,1,100)\n",
    "plt.plot(ax,f1(ax), label=\"function f(x)\")\n",
    "plt.plot(ax,p.pdf(ax),\"--\", color=\"r\",label=\"measure p(x)\")\n",
    "plt.legend()\n",
    "plt.show()"
   ]
  },
  {
   "cell_type": "code",
   "execution_count": 9,
   "metadata": {
    "id": "985mbJ1-Kt_m"
   },
   "outputs": [],
   "source": [
    "X=p.rvs(100).reshape(-1,1)"
   ]
  },
  {
   "cell_type": "code",
   "execution_count": 10,
   "metadata": {
    "colab": {
     "base_uri": "https://localhost:8080/"
    },
    "id": "o2RbVhdZKt_m",
    "outputId": "2389c627-8d30-4ada-c45b-bd29b6020589"
   },
   "outputs": [
    {
     "name": "stdout",
     "output_type": "stream",
     "text": [
      "SMC estiamte, variance:  (1.422107868900896, 0.02461823787041261)\n",
      "OIS estiamte, variance:  (1.4066505293237213, 3.516293134222976)\n",
      "True integral value: 1.4060679411423356\n"
     ]
    }
   ],
   "source": [
    "alpha=quad(lambda x: abs(f1(x))*p.pdf(x) ,0,1)[0]     # the integrand of |f1(x)|p(x)\n",
    "I= quad(lambda x: f1(x)*p.pdf(x) ,0,1)[0]\n",
    "print(\"SMC estiamte, variance: \", smc(f1,X))\n",
    "print(\"OIS estiamte, variance: \",ois(f1,X,p.pdf,alpha))\n",
    "print(\"True integral value:\",I)"
   ]
  },
  {
   "cell_type": "code",
   "execution_count": 13,
   "metadata": {
    "id": "PuC25mCRKt_n"
   },
   "outputs": [],
   "source": [
    "y=f1(X)       #functions values on X"
   ]
  },
  {
   "cell_type": "code",
   "execution_count": 14,
   "metadata": {
    "colab": {
     "base_uri": "https://localhost:8080/"
    },
    "id": "vKptGJiDKt_n",
    "outputId": "7f91ce7b-10d8-4f45-d7c6-b3a303124bf6"
   },
   "outputs": [
    {
     "name": "stderr",
     "output_type": "stream",
     "text": [
      "/usr/local/lib/python3.6/dist-packages/skopt/optimizer/optimizer.py:449: UserWarning: The objective has been evaluated at this point before.\n",
      "  warnings.warn(\"The objective has been evaluated \"\n",
      "/usr/local/lib/python3.6/dist-packages/skopt/optimizer/optimizer.py:449: UserWarning: The objective has been evaluated at this point before.\n",
      "  warnings.warn(\"The objective has been evaluated \"\n",
      "/usr/local/lib/python3.6/dist-packages/skopt/optimizer/optimizer.py:449: UserWarning: The objective has been evaluated at this point before.\n",
      "  warnings.warn(\"The objective has been evaluated \"\n",
      "/usr/local/lib/python3.6/dist-packages/skopt/optimizer/optimizer.py:449: UserWarning: The objective has been evaluated at this point before.\n",
      "  warnings.warn(\"The objective has been evaluated \"\n",
      "/usr/local/lib/python3.6/dist-packages/skopt/optimizer/optimizer.py:449: UserWarning: The objective has been evaluated at this point before.\n",
      "  warnings.warn(\"The objective has been evaluated \"\n"
     ]
    },
    {
     "name": "stdout",
     "output_type": "stream",
     "text": [
      "bmc extimate:  18925120.87677796 variance:  -0.015666848544196123\n"
     ]
    },
    {
     "name": "stderr",
     "output_type": "stream",
     "text": [
      "/usr/local/lib/python3.6/dist-packages/skopt/optimizer/optimizer.py:449: UserWarning: The objective has been evaluated at this point before.\n",
      "  warnings.warn(\"The objective has been evaluated \"\n"
     ]
    }
   ],
   "source": [
    "e,v=Bmc(Gaussian_kernel,noise_level=0.001).fit(X,y,p).integrate()\n",
    "print( \"bmc extimate: \",e[0], \"variance: \", v)"
   ]
  },
  {
   "cell_type": "code",
   "execution_count": 22,
   "metadata": {
    "colab": {
     "base_uri": "https://localhost:8080/"
    },
    "id": "dSn8EaIlKt_n",
    "outputId": "48ab8ab3-889e-40e7-d094-a7e6b1e15656"
   },
   "outputs": [
    {
     "name": "stdout",
     "output_type": "stream",
     "text": [
      "bmc extimate :  0.9402191782412987 variance:  -0.46668843792175513\n"
     ]
    }
   ],
   "source": [
    "# bmc estimate with the function\r\n",
    "e,v=bmc(X=X,y=y,p=p)\r\n",
    "print( \"bmc extimate : \",e[0], \"variance: \", v)"
   ]
  }
 ],
 "metadata": {
  "accelerator": "GPU",
  "colab": {
   "collapsed_sections": [],
   "name": "mc.ipynb",
   "provenance": [],
   "toc_visible": true
  },
  "kernelspec": {
   "display_name": "Python 3",
   "language": "python",
   "name": "python3"
  },
  "language_info": {
   "codemirror_mode": {
    "name": "ipython",
    "version": 3
   },
   "file_extension": ".py",
   "mimetype": "text/x-python",
   "name": "python",
   "nbconvert_exporter": "python",
   "pygments_lexer": "ipython3",
   "version": "3.8.5"
  }
 },
 "nbformat": 4,
 "nbformat_minor": 4
}

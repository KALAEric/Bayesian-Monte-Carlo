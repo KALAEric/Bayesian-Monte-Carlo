{
 "cells": [
  {
   "cell_type": "code",
   "execution_count": 313,
   "metadata": {},
   "outputs": [],
   "source": [
    "import numpy as np \n",
    "import matplotlib.pyplot as plt\n",
    "import matplotlib.pyplot as plt\n",
    "from scipy.stats import multivariate_normal\n",
    "from scipy.stats import norm\n",
    "from scipy.integrate import quad\n",
    "from skopt import gp_minimize\n",
    "\n",
    "from  numpy.linalg  import  inv,det, cholesky\n",
    "\n",
    "from sklearn.datasets import make_friedman2\n",
    "from sklearn.gaussian_process import GaussianProcessRegressor\n",
    "from sklearn.gaussian_process.kernels import Product, WhiteKernel,RBF,ConstantKernel"
   ]
  },
  {
   "cell_type": "markdown",
   "metadata": {},
   "source": [
    "\n",
    "We consider the evaluation of the following integral\n",
    "$$\n",
    "\\bar{f_p} = \\int f(x)p(x)dx \n",
    "$$\n",
    "where $p(x)$ is a probability (density), and $f(x)$ is the function we wish to integrate\n",
    "\n",
    "\n",
    "- The Classical Monte Carlo Method make the approximation:\n",
    "\n",
    "$$\n",
    "\\bar{f_p}=\\frac{1}{T}\\sum_{t=1}^{T} f(x_t)\n",
    "$$\n",
    "\n",
    "where $x_t$ are random (not necessarily independent) draws from $p(x)$.\n",
    "\n",
    "It is also possible to draw samples from some importance sampling distribution\n",
    "$q(x)$ to obtain the estimate:\n",
    "\n",
    "$$ \\bar{f_p}=\\frac{1}{T}\\sum_{t=1}^{T} f(x_t)\\frac{p(x_t)}{q(x_t)} $$\n",
    "\n"
   ]
  },
  {
   "cell_type": "markdown",
   "metadata": {},
   "source": [
    "## SMC"
   ]
  },
  {
   "cell_type": "code",
   "execution_count": 437,
   "metadata": {},
   "outputs": [],
   "source": []
  },
  {
   "cell_type": "code",
   "execution_count": null,
   "metadata": {},
   "outputs": [],
   "source": []
  },
  {
   "cell_type": "markdown",
   "metadata": {},
   "source": [
    "We can clearly notice that the choice of the gaussian distribution parameters is very important to get an aproximation close to the real integral. Indeed the sample has to be expanded on all the segment we wish to integrate and most importantly well distributed along values where the evaluation of f outputs small and big values. If we sample more  where f is  evaluated  small (resp. evaluated big), we get a lower (resp. upper opproximation). So the optimization strategie of bayesian monte carlo makes sense."
   ]
  },
  {
   "cell_type": "markdown",
   "metadata": {},
   "source": [
    "## BMC"
   ]
  },
  {
   "cell_type": "markdown",
   "metadata": {},
   "source": [
    " The  Bayesian Monte Carlo, Consist of  putting a prior on $f$ through Gaussian Processes (GP) in this case.\n",
    "Under a GP prior the joint distribution of any (finite) number of function values (indexed\n",
    "by the inputs, $x$ is Gaussian: \n",
    "\n",
    "$$ \\mathbf{f}= {(f(x_1),f(x_2), \\cdot \\cdot \\cdot ,f(x_n) )}^T =  \\mathcal{N}(0,\\,K)\\ $$\n",
    "\n",
    "where the mean is taken as zero and the covariance matrix is given by the covariance\n",
    "function (* add meaningless noise on diagonal coefficient). \n",
    "$$ K_{pq}= \\mathcal{Cov}( f(x_p), f(x_q))= w_0 \\exp{(-\\frac{1}{2} \\sum_{d=1}^{D}\\frac{(x_p^{(d)}-x_q^{(d)})^2}{w_d^2})}$$\n",
    "\n",
    " where $w$ parameters are hyperparameters to optimize.\n",
    "\n",
    "\n",
    "\n",
    "$$\\mathrm{E}_{f|\\mathcal{D}}[\\bar{f_p}] =\\int \\int f(x)p(x)dxp(f|D)df= \\int \\bar{f_{\\mathcal{D}}}(x)p(x)dx$$\n",
    "\n",
    "$$ \\mathrm{V}_{f|\\mathcal{D}}[\\bar{f_p}] =  \\int [ \\int f(x)p(x)dx - \\int \\bar{f}(x^{\\prime})p(x^{\\prime})dx^{\\prime}]^2 p(f|D)df= \\int \\int CovD(f(x), f(x^{\\prime}))p(x)p(x^{\\prime})dxdx^{\\prime}$$\n",
    "\n",
    "\n",
    "\n",
    " Concretely, the Bayesian Monte Carlo method starts with a prior over the function, $p(f)$ and makes\n",
    "inferences about $f$ from a set of samples $ \\mathcal{D} = \\{(x_i, f(x_i)) |i = 1 . . . n\\} $ \n",
    "\n",
    "\n",
    " (1)- The standard approximation results for a GP process is:\n",
    "$ \\bar{f_D(x)}= k(x, \\mathbf{x})K^{-1}\\mathbf{f}$ and $ CovD(f(x), f(x^{\\prime}) = k(x, x^{\\prime})−k(x, \\mathbf{x})K^{-1}k(\\mathbf{x}, x^{\\prime}) $\n",
    "\n",
    "where  $\\mathbf{x}$ and  $\\mathbf{f}$ are the observed inputs and function values respectively. General case is lead to expressions difficult to evaluate.\n",
    "\n",
    "(2)- \"Special case\" If the density $p(x)$ and the covariance function are both Gaussian, i.e : $p(x)=\\mathcal{N}(b,\\,B)$ and the Gaussian kernel on the data point is $\\mathcal{N}(a_i=x_i,\\, A=diag(w_1^2, w_2^2, \\cdot, \\cdot, \\cdot, w_D^2))$ , we obtain: \n",
    "\n",
    "\\begin{align}\n",
    "\\mathrm{E}_{f|\\mathcal{D}}[\\bar{f_p}] &= \\int \\bar{f_{\\mathcal{D}}}(x)p(x)dx \\\\\n",
    "&= \\int k(x, a)K^{-1}\\mathbf{f}p(x)dx \\\\ \n",
    "&= \\int \\mathcal{N}(x| a,\\,A)K^{-1}\\mathbf{f}\\mathcal{N}(x| b,\\,B)dx \\\\\n",
    "&= Z^{-1}K^{-1}\\mathbf{f} \\int \\mathcal{N}(x| c,\\,C)dx\n",
    "\\end{align}\n",
    "\n",
    "Were $Z^{-1}= (2\\pi)^{\\frac{D}{2}}|A + B|^{-0.5}\\exp[-0.5(a-b)^T(A+B)^{-1}(a-b)],\\quad  \n",
    "      C= (A^{-1} +B^{-1})^{-1}\n",
    "    , \\quad c= C(A^{-1}a +B^{-1}b)$\n",
    "\n",
    "\n",
    "  by rewritting $Z$ as $z$ we have:\n",
    "\n",
    "  $$\\mathrm{E}_{f|\\mathcal{D}}[\\bar{f_p}] = z^TK^{-1}\\mathbf{f} , \\quad z=w_0|A^{-1}B + I|^{-0.5}\\exp[-0.5(a-b)^T(A+B)^{-1}(a-b)]$$\n",
    "\n",
    "\n",
    "and \n",
    "\n",
    "\\begin{align}\n",
    "\\mathrm{V}_{f|\\mathcal{D}}[\\bar{f_p}]&=\\int \\int CovD(f(x), f(x^{\\prime}))p(x)p(x^{\\prime})dxdx^{\\prime}\\\\\n",
    "&= \\int \\int [k(x, x^{\\prime})−k(x, \\mathbf{x})K^{-1}k(\\mathbf{x}, x^{\\prime})]p(x)p(x^{\\prime})dxdx^{\\prime}\n",
    "\\end{align}\n",
    "\n",
    "\n",
    "$$\\mathrm{V}_{f|\\mathcal{D}}[\\bar{f_p}] =  w_0| 2A^{-1}B + I|^{-0.5}  - z^TK^{-1}z$$"
   ]
  },
  {
   "cell_type": "code",
   "execution_count": null,
   "metadata": {},
   "outputs": [],
   "source": []
  },
  {
   "cell_type": "markdown",
   "metadata": {},
   "source": [
    "\n"
   ]
  },
  {
   "cell_type": "code",
   "execution_count": 441,
   "metadata": {},
   "outputs": [],
   "source": [
    "def k(X,x,w):\n",
    "    K=[]\n",
    "    n,d=x.shape\n",
    "    w=np.array(w)\n",
    "    for i in range(n):\n",
    "        K.append(w[0]*np.exp(-0.5*np.sum((x[i,:]-X)**2/w[1:]**2, axis=1)))\n",
    "    return np.array(K)"
   ]
  },
  {
   "cell_type": "code",
   "execution_count": null,
   "metadata": {},
   "outputs": [],
   "source": []
  },
  {
   "cell_type": "code",
   "execution_count": 331,
   "metadata": {},
   "outputs": [
    {
     "data": {
      "text/plain": [
       "1.2246467991473532e-16"
      ]
     },
     "execution_count": 331,
     "metadata": {},
     "output_type": "execute_result"
    }
   ],
   "source": []
  },
  {
   "cell_type": "code",
   "execution_count": 415,
   "metadata": {},
   "outputs": [
    {
     "name": "stderr",
     "output_type": "stream",
     "text": [
      "C:\\Users\\kalae\\anaconda3\\lib\\site-packages\\scipy\\stats\\_multivariate.py:664: RuntimeWarning: covariance is not positive-semidefinite.\n",
      "  out = random_state.multivariate_normal(mean, cov, size)\n"
     ]
    }
   ],
   "source": [
    "b=np.array([0,0])\n",
    "B=np.array([[1,1],[.1,2]])\n",
    "w=np.array([.1,.5,1])\n",
    "a=np.array([2,1])\n",
    "d=b.shape[0]\n",
    "A=np.diag(w[1:])\n",
    "p=multivariate_normal(mean=b,cov=B)\n",
    "\n",
    "X=p.rvs(4)\n",
    "y=np.array([f2(X[i,:]) for i in range(X.shape[0])]) \n",
    "kernel= Gaussian_kernel\n",
    "\n",
    "dimensions=[(1e-5,1e5) for i in range(d+1)]"
   ]
  },
  {
   "cell_type": "code",
   "execution_count": 417,
   "metadata": {},
   "outputs": [
    {
     "name": "stderr",
     "output_type": "stream",
     "text": [
      "C:\\Users\\kalae\\anaconda3\\lib\\site-packages\\skopt\\optimizer\\optimizer.py:449: UserWarning: The objective has been evaluated at this point before.\n",
      "  warnings.warn(\"The objective has been evaluated \"\n",
      "C:\\Users\\kalae\\anaconda3\\lib\\site-packages\\skopt\\optimizer\\optimizer.py:449: UserWarning: The objective has been evaluated at this point before.\n",
      "  warnings.warn(\"The objective has been evaluated \"\n"
     ]
    },
    {
     "data": {
      "text/plain": [
       "((1.0261368248224754, 6.583341061643458e-06), 9.692536143005244)"
      ]
     },
     "execution_count": 417,
     "metadata": {},
     "output_type": "execute_result"
    }
   ],
   "source": [
    "model=Bmc(kernel_type=kernel,noise_level=.5)\n",
    "model.fit(X,y,p).integrate(),model.log_marginal_likelihood_value_"
   ]
  },
  {
   "cell_type": "code",
   "execution_count": 322,
   "metadata": {},
   "outputs": [
    {
     "name": "stdout",
     "output_type": "stream",
     "text": [
      "None\n"
     ]
    }
   ],
   "source": []
  },
  {
   "cell_type": "code",
   "execution_count": 413,
   "metadata": {},
   "outputs": [
    {
     "data": {
      "text/plain": [
       "(0.00316**2 * RBF(length_scale=[0.00586, 0.529]),\n",
       " array([-11.51292546,  -5.13918303,  -0.63681294]),\n",
       " array([1.00000000e-05, 5.86247720e-03, 5.28975617e-01]))"
      ]
     },
     "execution_count": 413,
     "metadata": {},
     "output_type": "execute_result"
    }
   ],
   "source": [
    "gpr.kernel_, gpr.kernel_.theta, np.exp(gpr.kernel_.theta)"
   ]
  },
  {
   "cell_type": "code",
   "execution_count": 415,
   "metadata": {},
   "outputs": [
    {
     "data": {
      "text/plain": [
       "-1.4400000000001082e-08"
      ]
     },
     "execution_count": 415,
     "metadata": {},
     "output_type": "execute_result"
    }
   ],
   "source": [
    "0.00316**2-1.00000000e-05"
   ]
  },
  {
   "cell_type": "code",
   "execution_count": 392,
   "metadata": {},
   "outputs": [
    {
     "data": {
      "text/plain": [
       "array([[1., 0.],\n",
       "       [0., 1.]])"
      ]
     },
     "execution_count": 392,
     "metadata": {},
     "output_type": "execute_result"
    }
   ],
   "source": []
  },
  {
   "cell_type": "code",
   "execution_count": 434,
   "metadata": {},
   "outputs": [
    {
     "name": "stdout",
     "output_type": "stream",
     "text": [
      "[1.45246804] -1.293672804545216\n"
     ]
    }
   ],
   "source": [
    "b=np.array([0])\n",
    "B=np.array([[.5]])\n",
    "d=b.shape[0]\n",
    "p=multivariate_normal(mean=b,cov=B)\n",
    "\n",
    "T=10\n",
    "X=p.rvs(T).reshape(-1,1)\n",
    "y=f1(X) \n",
    "\n",
    "# I,V=[],[]\n",
    "# for i in range(50,2048,100):\n",
    "#     X=p.rvs(i).reshape(-1, 1)\n",
    "#     f=f1(X)\n",
    "#     e,v=bmc(X,f,p,Product(ConstantKernel(), RBF(length_scale=1)))\n",
    "#     I.append(e)\n",
    "#     V.append(v)\n",
    "# e,v=bmc(X,y,p,kernel)\n",
    "\n",
    "\n",
    "\n",
    "print(E,V)"
   ]
  },
  {
   "cell_type": "code",
   "execution_count": null,
   "metadata": {},
   "outputs": [],
   "source": []
  },
  {
   "cell_type": "markdown",
   "metadata": {},
   "source": [
    "## Optimal importance sampler"
   ]
  },
  {
   "cell_type": "code",
   "execution_count": 442,
   "metadata": {},
   "outputs": [
    {
     "name": "stdout",
     "output_type": "stream",
     "text": [
      "smc  0.9451491375716807 True integrand:  0.9699531057009148\n"
     ]
    },
    {
     "data": {
      "image/png": "[encoded data removed]",
      "text/plain": [
       "<Figure size 432x288 with 1 Axes>"
      ]
     },
     "metadata": {
      "needs_background": "light"
     },
     "output_type": "display_data"
    }
   ],
   "source": [
    "def f1(x):\n",
    "    if x>=0 and x<=1:\n",
    "        return np.sin(np.pi*x)+x**2\n",
    "    return 0\n",
    "\n",
    "\n",
    "def f2(x):\n",
    "    if x[0]>=0 and x[0]<=1:\n",
    "        return np.sin(np.pi*x[0])+x[1]**2\n",
    "    return 0\n",
    "\n",
    "f1=np.vectorize(f1)\n",
    "\n",
    "x=norm(loc=0.5,scale=0.3).rvs(size=10000)     # generate x from a normal distribution \n",
    " \n",
    "print(\"smc \", smc(f1,x), \"True integrand: \", quad(f1,0,1)[0])\n",
    "\n",
    "#plot\n",
    "plt.plot(np.linspace(0,1,100),f1(np.linspace(0,1,100)))\n",
    "plt.hist(x, density=True)\n",
    "plt.show()"
   ]
  }
 ],
 "metadata": {
  "kernelspec": {
   "display_name": "Python 3",
   "language": "python",
   "name": "python3"
  },
  "language_info": {
   "codemirror_mode": {
    "name": "ipython",
    "version": 3
   },
   "file_extension": ".py",
   "mimetype": "text/x-python",
   "name": "python",
   "nbconvert_exporter": "python",
   "pygments_lexer": "ipython3",
   "version": "3.8.5"
  }
 },
 "nbformat": 4,
 "nbformat_minor": 4
}

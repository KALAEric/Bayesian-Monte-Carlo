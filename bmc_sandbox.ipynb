{
 "cells": [
  {
   "cell_type": "code",
   "execution_count": 13,
   "metadata": {},
   "outputs": [],
   "source": [
    "import numpy as np \n",
    "import matplotlib.pyplot as plt\n",
    "import matplotlib.pyplot as plt\n",
    "from scipy.stats import multivariate_normal\n",
    "from scipy.stats import norm\n",
    "from scipy.integrate import quad\n",
    "from skopt import gp_minimize"
   ]
  },
  {
   "cell_type": "markdown",
   "metadata": {},
   "source": [
    "\n",
    "We consider the evaluation of the following integral\n",
    "$$\n",
    "\\bar{f_p} = \\int f(x)p(x)dx \n",
    "$$\n",
    "where $p(x)$ is a probability (density), and $f(x)$ is the function we wish to integrate\n",
    "\n",
    "\n",
    "- The Classical Monte Carlo Method make the approximation:\n",
    "\n",
    "$$\n",
    "\\bar{f_p}=\\frac{1}{T}\\sum_{t=1}^{T} f(x_t)\n",
    "$$\n",
    "\n",
    "where $x_t$ are random (not necessarily independent) draws from $p(x)$.\n",
    "\n",
    "It is also possible to draw samples from some importance sampling distribution\n",
    "$q(x)$ to obtain the estimate:\n",
    "\n",
    "$$ \\bar{f_p}=\\frac{1}{T}\\sum_{t=1}^{T} f(x_t)\\frac{p(x_t)}{q(x_t)} $$\n",
    "\n",
    "\n",
    "- In the  Bayesian Monte Carlo, we proceed by putting a prior on $f$ through Gaussian Processes (GP) in this case.\n",
    "Under a GP prior the joint distribution of any (finite) number of function values (indexed\n",
    "by the inputs, $x$ is Gaussian: \n",
    "\n",
    "$$ \\mathbf{f}= {(f(x_1),f(x_2), \\cdot \\cdot \\cdot ,f(x_n) )}^T =  \\mathcal{N}(0,\\,K)\\ $$\n",
    "\n",
    "where the mean is taken as zero and the covariance matrix is given by the covariance\n",
    "function (.....1). \n",
    "$$ K_{pq}= \\mathcal{Cov}( f(x_p), f(x_q))= w_0 \\exp{(-\\frac{1}{2} \\sum_{d=1}^{D}\\frac{(x_p^{(d)}-x_q^{(d)})^2}{w_d^2})}$$\n",
    "\n",
    " where $w$ parameters are hyperparameters to optimize.\n",
    "\n",
    "\n",
    " Concretely, the Bayesian Monte Carlo method starts with a prior over the function, $p(f)$ and makes\n",
    "inferences about $f$ from a set of samples $ \\mathcal{D} = \\{(x_i, f(x_i)) |i = 1 . . . n\\} $ \n",
    "\n",
    "\n",
    " (1)- The standard approximation results for a GP process is:\n",
    "$f_D(x) = k(x, \\mathbf{x})K^{-1}\\mathbf{f}$ and $ CovD(f(x), f(x^{\\prime}) = k(x, x^{\\prime})−k(x, \\mathbf{x})K^{-1}k(\\mathbf{x}, x^{\\prime}) $\n",
    "\n",
    "where  $\\mathbf{x}$ and  $\\mathbf{f}$ are the observed inputs and function values respectively. General case is lead to expressions difficult to evaluate.\n",
    "\n",
    "(2)- [Special case] If the density $p(x)$ and the covariance function are both Gaussian, i.e : $p(x)=\\mathcal{N}(b,\\,B)$ and the Gaussian kernel on the data point is $\\mathcal{N}(a_i=x_i,\\, A=diag(w_1^2, w_2^2, \\cdot, \\cdot, \\cdot, w_D^2))$ , we obtain: \n",
    "\n",
    "\n",
    "$$\\mathrm{E}_{f|\\mathcal{D}}[\\bar{f_p}] = z^TK^{-1}\\mathbf{f} , \\quad z=w_0|A^{-1}B + I|^{-0.5}\\exp[-0.5(a-b)^T(A+B)^{-1}(a-b)]$$\n",
    "$$\\mathrm{V}_{f|\\mathcal{D}}[\\bar{f_p}] =  w_0| 2A^{-1}B + I|^{-0.5}  - z^TK^{-1}z$$\n",
    "\n",
    "\n",
    "\n",
    "\n",
    "\n",
    "\n",
    "\n",
    "\n",
    "\n",
    "\n",
    "\n",
    "\n",
    "\n"
   ]
  },
  {
   "cell_type": "markdown",
   "metadata": {},
   "source": [
    "## Implement SMC"
   ]
  },
  {
   "cell_type": "code",
   "execution_count": 3,
   "metadata": {},
   "outputs": [],
   "source": [
    "class SMC:\n",
    "    def __init__(self,f,p,lwb, upb,T):\n",
    "        self.f=f\n",
    "        self.p=p\n",
    "        self.T=T\n",
    "        self.clear()\n",
    "    def clear(self):\n",
    "        self.x=np.zeros(self.T)\n",
    "    \n",
    "    def evaluate(self):\n",
    "        pass"
   ]
  },
  {
   "cell_type": "code",
   "execution_count": 4,
   "metadata": {},
   "outputs": [],
   "source": [
    "def smc(f,x,T):\n",
    "    return 1/T*np.sum(f(x))"
   ]
  },
  {
   "cell_type": "code",
   "execution_count": 5,
   "metadata": {},
   "outputs": [
    {
     "name": "stdout",
     "output_type": "stream",
     "text": [
      "smc  0.6478 True integrand:  0.9699531057009148\n"
     ]
    },
    {
     "data": {
      "image/png": "[encoded data removed]",
      "text/plain": [
       "<Figure size 432x288 with 1 Axes>"
      ]
     },
     "metadata": {
      "needs_background": "light"
     },
     "output_type": "display_data"
    }
   ],
   "source": [
    "def f(x):\n",
    "    if x>=0 and x<=1:\n",
    "        return np.sin(np.pi*x)+x**2\n",
    "    return 0\n",
    "f=np.vectorize(f)\n",
    "\n",
    "x=norm(loc=0.5,scale=0.3).rvs(size=10000)\n",
    "print(\"smc \", smc(f,x,10000), \"True integrand: \", quad(f,0,1)[0])\n",
    "\n",
    "#plot\n",
    "plt.plot(np.linspace(0,1,100),f(np.linspace(0,1,100)))\n",
    "plt.hist(x, density=True)\n",
    "plt.show()"
   ]
  },
  {
   "cell_type": "markdown",
   "metadata": {},
   "source": [
    "We can clearly notice that the choice of the gaussian distribution parameters is very important to get an aproximation close to the real integral. Indeed the sample has to be expanded on all the segment we wish to integrate and most importantly well distributed along values where the evaluation of f outputs small and big values. If we sample more  where f is  evaluated  small (resp. evaluated big), we get a lower (resp. upper opproximation). So the optimization strategie of bayesian monte carlo makes sense."
   ]
  },
  {
   "cell_type": "code",
   "execution_count": null,
   "metadata": {},
   "outputs": [],
   "source": []
  },
  {
   "cell_type": "code",
   "execution_count": null,
   "metadata": {},
   "outputs": [],
   "source": []
  },
  {
   "cell_type": "code",
   "execution_count": null,
   "metadata": {},
   "outputs": [],
   "source": []
  },
  {
   "cell_type": "markdown",
   "metadata": {},
   "source": [
    "- One dimensional case\n",
    "\n",
    "(2)- [Special case] If the density $p(x)$ and the covariance function are both Gaussian, i.e : $p(x)=\\mathcal{N}(b,\\,B)$ and the Gaussian kernel on the data point is $\\mathcal{N}(a_i=x_i,\\, A=diag(w_1^2, w_2^2, \\cdot, \\cdot, \\cdot, w_D^2))$ , we obtain: \n",
    "\n",
    "\n",
    "$$\\mathrm{E}_{f|\\mathcal{D}}[\\bar{f_p}] = z^TK^{-1}\\mathbf{f} , \\quad z=w_0|A^{-1}B + I|^{-0.5}\\exp[-0.5(a-b)^T(A+B)^{-1}(a-b)]$$\n",
    "$$\\mathrm{V}_{f|\\mathcal{D}}[\\bar{f_p}] =  w_0| 2A^{-1}B + I|^{-0.5}  - z^TK^{-1}z$$"
   ]
  },
  {
   "cell_type": "code",
   "execution_count": 62,
   "metadata": {},
   "outputs": [
    {
     "data": {
      "text/plain": [
       "array([[1.]])"
      ]
     },
     "execution_count": 62,
     "metadata": {},
     "output_type": "execute_result"
    }
   ],
   "source": [
    "b=np.array([0])\n",
    "B=np.array([[1]])\n",
    "w=np.array([.1,.5])\n",
    "a=np.array([2])\n",
    "d=b.shape[0]\n",
    "A=np.diag(w[1:])\n",
    "p=multivariate_normal(mean=b,cov=B)\n",
    "\n",
    "z=w[0]*np.linalg.inv(np.sqrt(abs(np.linalg.inv(A)@B + np.eye(d))))*np.exp(-.5*(a-b).T@np.linalg.inv(A+B)@(a-b))\n",
    "\n",
    "x=p.rvs(10).reshape(10,1)\n",
    "fb=f(x)\n",
    "K=covariance_function(x,w=np.array([0.1,.5]))\n",
    "\n",
    "E=z*np.linalg.inv(K)@fb \n",
    "V=w[0]*np.linalg.inv(np.sqrt(abs(2*np.linalg.inv(A)@B + np.eye(d)))) -z*np.linalg.inv(K)*z\n",
    "E.shape, V.shape\n",
    "E.mean()\n",
    "# multivariate_normal(mean=E.flatten(),cov=V).rvs()"
   ]
  },
  {
   "cell_type": "code",
   "execution_count": null,
   "metadata": {},
   "outputs": [],
   "source": [
    "def g_p(X, y, k,noise_level, x, w):\n",
    "\n",
    "    # input: X (inputs), y (targets), k (covariance function), σ2n (noise level),x∗ (test input)\n",
    "    n,d=X.shape\n",
    "    K=k(x,w[1:])\n",
    "    # 2: L := cholesky(K + σ2nI)\n",
    "    L=cholesky(K+sigma*np.eyes(n))\n",
    "    # α := L.T\\(L\\y)\n",
    "    alpha=L.T/(L/y)\n",
    "    # 4: bar f∗ := k∗.Tα              # predictive mean eq\n",
    "    mean_f= k(x,X).T@alpha\n",
    "    # v := L\\k∗\n",
    "    v=L/k(x,X)\n",
    "    # 6: V[f∗] := k(x∗, x∗) − v.Tv             # predictive variance \n",
    "    V[mean_f]=k(x,x)-v.T@v\n",
    "\n",
    "    # log p(y|X) := −1/2y.Tα −sum log Lii −n/2log(2π) \n",
    "    return  −.5*y.T@alpha −np.sum(np.log(np.diag(L))) -.5*n*np.log(2*np.pi)    # 8: return: bar f∗ (mean), V[f∗] (variance), log p(y|X) (log marginal likelihood)"
   ]
  },
  {
   "cell_type": "code",
   "execution_count": 86,
   "metadata": {},
   "outputs": [],
   "source": [
    "def k(X,x,w):\n",
    "    K=[]\n",
    "    n,d=x.shape\n",
    "    w=np.array(w)\n",
    "    for i in range(n):\n",
    "        K.append(w[0]*np.exp(-0.5*np.sum((x[i,:]-X)**2/w[1:]**2, axis=1)))\n",
    "    return np.array(K)\n",
    "\n",
    "class bmc:\n",
    "    def __init__(self, X, y,k,noise_level,x,p):\n",
    "        self.n,self.d=X.shape\n",
    "        self.k=k\n",
    "        self.X,self.y=X,y\n",
    "        self.x=x\n",
    "        self.p=p\n",
    "        \n",
    "    def log_marginal(self,w):\n",
    "        self.K=self.k(self.X,self.X,w)\n",
    "        self.L=np.linalg.cholesky(self.K+noise_level*np.eye(self.n))\n",
    "        self.alpha=np.linalg.inv(self.L.T)@np.linalg.inv(self.L)@self.y\n",
    "        log_p=-.5*self.y.T@self.alpha - np.sum(np.log(np.diag(self.L))) -.5*self.n*np.log(2*np.pi)\n",
    "        return log_p[0][0]\n",
    "\n",
    "    def optimize(self):\n",
    "#         w_0=(1/self).d*np.ones(self.d+1)\n",
    "        dimensions=[(0.001,1.) for i in range(self.d+1)]\n",
    "        res=gp_minimize(self.log_marginal,                  # the function to minimize\n",
    "                  dimensions,                     # the bounds on each dimension of x\n",
    "                  acq_func=\"EI\",      # the acquisition function\n",
    "                  n_calls=15,         # the number of evaluations of f\n",
    "                  n_random_starts=5,  # the number of random initialization points\n",
    "                  noise=0.1**2,       # the noise level (optional)\n",
    "                  random_state=1234) \n",
    "        self.w=res.x\n",
    "        print(res.x)\n",
    "         \n",
    "    def compute(self):\n",
    "        self.optimize()\n",
    "        b,B=self.p.mean,self.p.cov\n",
    "        A=np.diag(self.w[1:])\n",
    "        \n",
    "        # compute z \n",
    "\n",
    "        z=self.w[0]*np.sqrt(np.linalg.det(np.linalg.inv(A)@B + np.eye(self.d)))*np.exp(-.5*np.diag((self.X-b)@np.linalg.inv(A+B)@(self.X-b).T))\n",
    "\n",
    "        print(z.shape)\n",
    "        k_=self.k(self.X,self.X, self.w)\n",
    "        self.mean_f= k_@self.alpha\n",
    "        self.v=np.linalg.inv(self.L)@self.k(self.X,self.X,self.w).T\n",
    "        self.var_f=np.diag(self.k(self.X,self.X,self.w).T)-self.v.T@self.v\n",
    "    \n",
    "#         z= z.reshape((1,self.n))\n",
    "        print(z.shape, self.K.shape,self.y.shape)\n",
    "        E=z.T@np.linalg.inv(self.K)@self.y\n",
    "        \n",
    "        V=self.w[0]*np.sqrt(np.linalg.det(2*np.linalg.inv(A)@B + np.eye(self.d)))-z.T@np.linalg.inv(self.K)@z\n",
    "\n",
    "        return self.mean_f,self.var_f, E,V\n"
   ]
  },
  {
   "cell_type": "code",
   "execution_count": 87,
   "metadata": {},
   "outputs": [
    {
     "name": "stderr",
     "output_type": "stream",
     "text": [
      "C:\\Users\\kalae\\anaconda3\\lib\\site-packages\\skopt\\optimizer\\optimizer.py:449: UserWarning: The objective has been evaluated at this point before.\n",
      "  warnings.warn(\"The objective has been evaluated \"\n",
      "C:\\Users\\kalae\\anaconda3\\lib\\site-packages\\skopt\\optimizer\\optimizer.py:449: UserWarning: The objective has been evaluated at this point before.\n",
      "  warnings.warn(\"The objective has been evaluated \"\n",
      "C:\\Users\\kalae\\anaconda3\\lib\\site-packages\\skopt\\optimizer\\optimizer.py:449: UserWarning: The objective has been evaluated at this point before.\n",
      "  warnings.warn(\"The objective has been evaluated \"\n",
      "C:\\Users\\kalae\\anaconda3\\lib\\site-packages\\skopt\\optimizer\\optimizer.py:449: UserWarning: The objective has been evaluated at this point before.\n",
      "  warnings.warn(\"The objective has been evaluated \"\n",
      "C:\\Users\\kalae\\anaconda3\\lib\\site-packages\\skopt\\optimizer\\optimizer.py:449: UserWarning: The objective has been evaluated at this point before.\n",
      "  warnings.warn(\"The objective has been evaluated \"\n",
      "C:\\Users\\kalae\\anaconda3\\lib\\site-packages\\skopt\\optimizer\\optimizer.py:449: UserWarning: The objective has been evaluated at this point before.\n",
      "  warnings.warn(\"The objective has been evaluated \"\n",
      "C:\\Users\\kalae\\anaconda3\\lib\\site-packages\\skopt\\optimizer\\optimizer.py:449: UserWarning: The objective has been evaluated at this point before.\n",
      "  warnings.warn(\"The objective has been evaluated \"\n",
      "C:\\Users\\kalae\\anaconda3\\lib\\site-packages\\skopt\\optimizer\\optimizer.py:449: UserWarning: The objective has been evaluated at this point before.\n",
      "  warnings.warn(\"The objective has been evaluated \"\n"
     ]
    },
    {
     "name": "stdout",
     "output_type": "stream",
     "text": [
      "[1.0, 0.001]\n",
      "(10,)\n",
      "(10,) (10, 10) (10, 1)\n"
     ]
    },
    {
     "name": "stderr",
     "output_type": "stream",
     "text": [
      "C:\\Users\\kalae\\anaconda3\\lib\\site-packages\\skopt\\optimizer\\optimizer.py:449: UserWarning: The objective has been evaluated at this point before.\n",
      "  warnings.warn(\"The objective has been evaluated \"\n"
     ]
    },
    {
     "data": {
      "text/plain": [
       "<matplotlib.legend.Legend at 0x1afe5974a30>"
      ]
     },
     "execution_count": 87,
     "metadata": {},
     "output_type": "execute_result"
    },
    {
     "data": {
      "image/png": "[encoded data removed]",
      "text/plain": [
       "<Figure size 432x288 with 1 Axes>"
      ]
     },
     "metadata": {
      "needs_background": "light"
     },
     "output_type": "display_data"
    }
   ],
   "source": [
    "b=np.array([0.5])\n",
    "B=np.array([[1]])\n",
    "w=np.array([.1,.5])\n",
    "a=np.array([2])\n",
    "d=b.shape[0]\n",
    "A=np.diag(w[1:])\n",
    "p=multivariate_normal(mean=b,cov=B)\n",
    "\n",
    "X=p.rvs(10).reshape(10,1)\n",
    "y=f(X)\n",
    "x=np.array([[1]])\n",
    "noise_level=.5\n",
    "\n",
    "bm=bmc(X,y,k,noise_level, x,p)\n",
    "bm.log_marginal(w=w)\n",
    "mean_f,var_f, I, var_I=bm.compute()\n",
    "\n",
    "plt.plot(mean_f, label=\"mean f\")\n",
    "plt.plot(y, label=\"f\")\n",
    "plt.legend()"
   ]
  },
  {
   "cell_type": "code",
   "execution_count": 93,
   "metadata": {},
   "outputs": [
    {
     "data": {
      "text/plain": [
       "((10, 1), (10, 10))"
      ]
     },
     "execution_count": 93,
     "metadata": {},
     "output_type": "execute_result"
    }
   ],
   "source": [
    "E.shape,V.shape"
   ]
  },
  {
   "cell_type": "code",
   "execution_count": null,
   "metadata": {},
   "outputs": [],
   "source": []
  },
  {
   "cell_type": "code",
   "execution_count": 274,
   "metadata": {},
   "outputs": [],
   "source": []
  }
 ],
 "metadata": {
  "kernelspec": {
   "display_name": "Python 3",
   "language": "python",
   "name": "python3"
  },
  "language_info": {
   "codemirror_mode": {
    "name": "ipython",
    "version": 3
   },
   "file_extension": ".py",
   "mimetype": "text/x-python",
   "name": "python",
   "nbconvert_exporter": "python",
   "pygments_lexer": "ipython3",
   "version": "3.8.5"
  }
 },
 "nbformat": 4,
 "nbformat_minor": 4
}

{
 "cells": [
  {
   "cell_type": "code",
   "execution_count": 1,
   "metadata": {
    "id": "JJjX9RtbKt_c"
   },
   "outputs": [],
   "source": [
    "%load_ext autoreload\n",
    "%autoreload 2\n",
    "\n",
    "%matplotlib inline  \n"
   ]
  },
  {
   "cell_type": "code",
   "execution_count": 2,
   "metadata": {
    "id": "YDvpBIHZKt_j"
   },
   "outputs": [],
   "source": [
    "import numpy as np \n",
    "import matplotlib.pyplot as plt\n",
    "import matplotlib.pyplot as plt\n",
    "from scipy.stats import multivariate_normal\n",
    "from scipy.integrate import quad\n",
    "from sklearn.gaussian_process.kernels import RBF\n",
    "\n",
    "from mc import *"
   ]
  },
  {
   "cell_type": "markdown",
   "metadata": {
    "id": "jrdzoj6-Kt_k"
   },
   "source": [
    " ## 1-D Examples"
   ]
  },
  {
   "cell_type": "code",
   "execution_count": 3,
   "metadata": {
    "id": "VtxaEa2WKt_k"
   },
   "outputs": [],
   "source": [
    "def f1(x):\n",
    "    if x>=0 and x<=1:\n",
    "        return np.exp(x)*np.sin(np.pi*x) -x**3 \n",
    "    return 0\n",
    "f1=np.vectorize(f1)"
   ]
  },
  {
   "cell_type": "code",
   "execution_count": 6,
   "metadata": {
    "colab": {
     "base_uri": "https://localhost:8080/",
     "height": 265
    },
    "id": "T6RLby3YKt_l",
    "outputId": "bb12a4f3-5ebf-4350-8088-4fd76b88c7a4"
   },
   "outputs": [
    {
     "data": {
      "image/png": "[encoded data removed]",
      "text/plain": [
       "<Figure size 432x288 with 1 Axes>"
      ]
     },
     "metadata": {
      "needs_background": "light"
     },
     "output_type": "display_data"
    }
   ],
   "source": [
    "b=np.array([0.6])\n",
    "B=np.array([[.01]])\n",
    "p=multivariate_normal(mean=b,cov=B)\n",
    "ax=np.linspace(0,1,100)\n",
    "plt.plot(ax,f1(ax), label=\"function f(x)\")\n",
    "plt.plot(ax,p.pdf(ax),\"--\", color=\"r\",label=\"measure p(x)\")\n",
    "plt.legend()\n",
    "plt.savefig(\"./f.png\")\n",
    "plt.show()"
   ]
  },
  {
   "cell_type": "code",
   "execution_count": 9,
   "metadata": {
    "id": "985mbJ1-Kt_m"
   },
   "outputs": [],
   "source": [
    "X=p.rvs(100).reshape(-1,1)"
   ]
  },
  {
   "cell_type": "code",
   "execution_count": 10,
   "metadata": {
    "colab": {
     "base_uri": "https://localhost:8080/"
    },
    "id": "o2RbVhdZKt_m",
    "outputId": "2389c627-8d30-4ada-c45b-bd29b6020589"
   },
   "outputs": [
    {
     "name": "stdout",
     "output_type": "stream",
     "text": [
      "SMC estiamte, variance:  (1.422107868900896, 0.02461823787041261)\n",
      "OIS estiamte, variance:  (1.4066505293237213, 3.516293134222976)\n",
      "True integral value: 1.4060679411423356\n"
     ]
    }
   ],
   "source": [
    "alpha=quad(lambda x: abs(f1(x))*p.pdf(x) ,0,1)[0]     # the integrand of |f1(x)|p(x)\n",
    "I= quad(lambda x: f1(x)*p.pdf(x) ,0,1)[0]\n",
    "print(\"SMC estiamte, variance: \", smc(f1,X))\n",
    "print(\"OIS estiamte, variance: \",ois(f1,X,p.pdf,alpha))\n",
    "print(\"True integral value:\",I)"
   ]
  },
  {
   "cell_type": "code",
   "execution_count": 13,
   "metadata": {
    "id": "PuC25mCRKt_n"
   },
   "outputs": [],
   "source": [
    "y=f1(X)       #functions values on X"
   ]
  },
  {
   "cell_type": "code",
   "execution_count": 14,
   "metadata": {
    "colab": {
     "base_uri": "https://localhost:8080/"
    },
    "id": "vKptGJiDKt_n",
    "outputId": "7f91ce7b-10d8-4f45-d7c6-b3a303124bf6"
   },
   "outputs": [
    {
     "name": "stderr",
     "output_type": "stream",
     "text": [
      "/usr/local/lib/python3.6/dist-packages/skopt/optimizer/optimizer.py:449: UserWarning: The objective has been evaluated at this point before.\n",
      "  warnings.warn(\"The objective has been evaluated \"\n",
      "/usr/local/lib/python3.6/dist-packages/skopt/optimizer/optimizer.py:449: UserWarning: The objective has been evaluated at this point before.\n",
      "  warnings.warn(\"The objective has been evaluated \"\n",
      "/usr/local/lib/python3.6/dist-packages/skopt/optimizer/optimizer.py:449: UserWarning: The objective has been evaluated at this point before.\n",
      "  warnings.warn(\"The objective has been evaluated \"\n",
      "/usr/local/lib/python3.6/dist-packages/skopt/optimizer/optimizer.py:449: UserWarning: The objective has been evaluated at this point before.\n",
      "  warnings.warn(\"The objective has been evaluated \"\n",
      "/usr/local/lib/python3.6/dist-packages/skopt/optimizer/optimizer.py:449: UserWarning: The objective has been evaluated at this point before.\n",
      "  warnings.warn(\"The objective has been evaluated \"\n"
     ]
    },
    {
     "name": "stdout",
     "output_type": "stream",
     "text": [
      "bmc extimate:  18925120.87677796 variance:  -0.015666848544196123\n"
     ]
    },
    {
     "name": "stderr",
     "output_type": "stream",
     "text": [
      "/usr/local/lib/python3.6/dist-packages/skopt/optimizer/optimizer.py:449: UserWarning: The objective has been evaluated at this point before.\n",
      "  warnings.warn(\"The objective has been evaluated \"\n"
     ]
    }
   ],
   "source": [
    "e,v=Bmc(Gaussian_kernel,noise_level=0.001).fit(X,y,p).integrate()\n",
    "print( \"bmc extimate: \",e[0], \"variance: \", v)"
   ]
  },
  {
   "cell_type": "code",
   "execution_count": 22,
   "metadata": {
    "colab": {
     "base_uri": "https://localhost:8080/"
    },
    "id": "dSn8EaIlKt_n",
    "outputId": "48ab8ab3-889e-40e7-d094-a7e6b1e15656"
   },
   "outputs": [
    {
     "name": "stdout",
     "output_type": "stream",
     "text": [
      "bmc extimate :  0.9402191782412987 variance:  -0.46668843792175513\n"
     ]
    }
   ],
   "source": [
    "# bmc estimate with the function\r\n",
    "e,v=bmc(X=X,y=y,p=p)\r\n",
    "print( \"bmc extimate : \",e[0], \"variance: \", v)"
   ]
  }
 ],
 "metadata": {
  "accelerator": "GPU",
  "colab": {
   "collapsed_sections": [],
   "name": "mc.ipynb",
   "provenance": [],
   "toc_visible": true
  },
  "kernelspec": {
   "display_name": "Python 3",
   "language": "python",
   "name": "python3"
  },
  "language_info": {
   "codemirror_mode": {
    "name": "ipython",
    "version": 3
   },
   "file_extension": ".py",
   "mimetype": "text/x-python",
   "name": "python",
   "nbconvert_exporter": "python",
   "pygments_lexer": "ipython3",
   "version": "3.8.5"
  }
 },
 "nbformat": 4,
 "nbformat_minor": 4
}